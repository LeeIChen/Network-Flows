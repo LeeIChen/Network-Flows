{
 "cells": [
  {
   "cell_type": "code",
   "execution_count": null,
   "metadata": {
    "collapsed": true
   },
   "outputs": [],
   "source": [
    "# Reference : https://ampl.com/api/extra/python_quickstart.html"
   ]
  },
  {
   "cell_type": "markdown",
   "metadata": {},
   "source": [
    "## Step 1: Path Setting"
   ]
  },
  {
   "cell_type": "code",
   "execution_count": 1,
   "metadata": {
    "collapsed": true
   },
   "outputs": [],
   "source": [
    "from __future__ import print_function\n",
    "import pandas as pd\n",
    "import numpy as np\n",
    "import random\n",
    "from operator import add"
   ]
  },
  {
   "cell_type": "code",
   "execution_count": 2,
   "metadata": {},
   "outputs": [
    {
     "data": {
      "text/html": [
       "\n",
       "    <div class=\"bk-root\">\n",
       "        <a href=\"https://bokeh.pydata.org\" target=\"_blank\" class=\"bk-logo bk-logo-small bk-logo-notebook\"></a>\n",
       "        <span id=\"b00a6a92-900d-423b-a742-876e93982023\">Loading BokehJS ...</span>\n",
       "    </div>"
      ]
     },
     "metadata": {},
     "output_type": "display_data"
    },
    {
     "data": {
      "application/javascript": [
       "\n",
       "(function(root) {\n",
       "  function now() {\n",
       "    return new Date();\n",
       "  }\n",
       "\n",
       "  var force = true;\n",
       "\n",
       "  if (typeof (root._bokeh_onload_callbacks) === \"undefined\" || force === true) {\n",
       "    root._bokeh_onload_callbacks = [];\n",
       "    root._bokeh_is_loading = undefined;\n",
       "  }\n",
       "\n",
       "\n",
       "  \n",
       "  if (typeof (root._bokeh_timeout) === \"undefined\" || force === true) {\n",
       "    root._bokeh_timeout = Date.now() + 5000;\n",
       "    root._bokeh_failed_load = false;\n",
       "  }\n",
       "\n",
       "  var NB_LOAD_WARNING = {'data': {'text/html':\n",
       "     \"<div style='background-color: #fdd'>\\n\"+\n",
       "     \"<p>\\n\"+\n",
       "     \"BokehJS does not appear to have successfully loaded. If loading BokehJS from CDN, this \\n\"+\n",
       "     \"may be due to a slow or bad network connection. Possible fixes:\\n\"+\n",
       "     \"</p>\\n\"+\n",
       "     \"<ul>\\n\"+\n",
       "     \"<li>re-rerun `output_notebook()` to attempt to load from CDN again, or</li>\\n\"+\n",
       "     \"<li>use INLINE resources instead, as so:</li>\\n\"+\n",
       "     \"</ul>\\n\"+\n",
       "     \"<code>\\n\"+\n",
       "     \"from bokeh.resources import INLINE\\n\"+\n",
       "     \"output_notebook(resources=INLINE)\\n\"+\n",
       "     \"</code>\\n\"+\n",
       "     \"</div>\"}};\n",
       "\n",
       "  function display_loaded() {\n",
       "    if (root.Bokeh !== undefined) {\n",
       "      var el = document.getElementById(\"b00a6a92-900d-423b-a742-876e93982023\");\n",
       "      if (el != null) {\n",
       "        el.textContent = \"BokehJS \" + Bokeh.version + \" successfully loaded.\";\n",
       "      }\n",
       "    } else if (Date.now() < root._bokeh_timeout) {\n",
       "      setTimeout(display_loaded, 100)\n",
       "    }\n",
       "  }\n",
       "\n",
       "\n",
       "  function run_callbacks() {\n",
       "    try {\n",
       "      root._bokeh_onload_callbacks.forEach(function(callback) { callback() });\n",
       "    }\n",
       "    finally {\n",
       "      delete root._bokeh_onload_callbacks\n",
       "    }\n",
       "    console.info(\"Bokeh: all callbacks have finished\");\n",
       "  }\n",
       "\n",
       "  function load_libs(js_urls, callback) {\n",
       "    root._bokeh_onload_callbacks.push(callback);\n",
       "    if (root._bokeh_is_loading > 0) {\n",
       "      console.log(\"Bokeh: BokehJS is being loaded, scheduling callback at\", now());\n",
       "      return null;\n",
       "    }\n",
       "    if (js_urls == null || js_urls.length === 0) {\n",
       "      run_callbacks();\n",
       "      return null;\n",
       "    }\n",
       "    console.log(\"Bokeh: BokehJS not loaded, scheduling load and callback at\", now());\n",
       "    root._bokeh_is_loading = js_urls.length;\n",
       "    for (var i = 0; i < js_urls.length; i++) {\n",
       "      var url = js_urls[i];\n",
       "      var s = document.createElement('script');\n",
       "      s.src = url;\n",
       "      s.async = false;\n",
       "      s.onreadystatechange = s.onload = function() {\n",
       "        root._bokeh_is_loading--;\n",
       "        if (root._bokeh_is_loading === 0) {\n",
       "          console.log(\"Bokeh: all BokehJS libraries loaded\");\n",
       "          run_callbacks()\n",
       "        }\n",
       "      };\n",
       "      s.onerror = function() {\n",
       "        console.warn(\"failed to load library \" + url);\n",
       "      };\n",
       "      console.log(\"Bokeh: injecting script tag for BokehJS library: \", url);\n",
       "      document.getElementsByTagName(\"head\")[0].appendChild(s);\n",
       "    }\n",
       "  };var element = document.getElementById(\"b00a6a92-900d-423b-a742-876e93982023\");\n",
       "  if (element == null) {\n",
       "    console.log(\"Bokeh: ERROR: autoload.js configured with elementid 'b00a6a92-900d-423b-a742-876e93982023' but no matching script tag was found. \")\n",
       "    return false;\n",
       "  }\n",
       "\n",
       "  var js_urls = [\"https://cdn.pydata.org/bokeh/release/bokeh-0.12.7.min.js\", \"https://cdn.pydata.org/bokeh/release/bokeh-widgets-0.12.7.min.js\", \"https://cdn.pydata.org/bokeh/release/bokeh-tables-0.12.7.min.js\", \"https://cdn.pydata.org/bokeh/release/bokeh-gl-0.12.7.min.js\"];\n",
       "\n",
       "  var inline_js = [\n",
       "    function(Bokeh) {\n",
       "      Bokeh.set_log_level(\"info\");\n",
       "    },\n",
       "    \n",
       "    function(Bokeh) {\n",
       "      \n",
       "    },\n",
       "    \n",
       "    function(Bokeh) {\n",
       "      \n",
       "      document.getElementById(\"b00a6a92-900d-423b-a742-876e93982023\").textContent = \"BokehJS is loading...\";\n",
       "    },\n",
       "    function(Bokeh) {\n",
       "      console.log(\"Bokeh: injecting CSS: https://cdn.pydata.org/bokeh/release/bokeh-0.12.7.min.css\");\n",
       "      Bokeh.embed.inject_css(\"https://cdn.pydata.org/bokeh/release/bokeh-0.12.7.min.css\");\n",
       "      console.log(\"Bokeh: injecting CSS: https://cdn.pydata.org/bokeh/release/bokeh-widgets-0.12.7.min.css\");\n",
       "      Bokeh.embed.inject_css(\"https://cdn.pydata.org/bokeh/release/bokeh-widgets-0.12.7.min.css\");\n",
       "      console.log(\"Bokeh: injecting CSS: https://cdn.pydata.org/bokeh/release/bokeh-tables-0.12.7.min.css\");\n",
       "      Bokeh.embed.inject_css(\"https://cdn.pydata.org/bokeh/release/bokeh-tables-0.12.7.min.css\");\n",
       "    }\n",
       "  ];\n",
       "\n",
       "  function run_inline_js() {\n",
       "    \n",
       "    if ((root.Bokeh !== undefined) || (force === true)) {\n",
       "      for (var i = 0; i < inline_js.length; i++) {\n",
       "        inline_js[i].call(root, root.Bokeh);\n",
       "      }if (force === true) {\n",
       "        display_loaded();\n",
       "      }} else if (Date.now() < root._bokeh_timeout) {\n",
       "      setTimeout(run_inline_js, 100);\n",
       "    } else if (!root._bokeh_failed_load) {\n",
       "      console.log(\"Bokeh: BokehJS failed to load within specified timeout.\");\n",
       "      root._bokeh_failed_load = true;\n",
       "    } else if (force !== true) {\n",
       "      var cell = $(document.getElementById(\"b00a6a92-900d-423b-a742-876e93982023\")).parents('.cell').data().cell;\n",
       "      cell.output_area.append_execute_result(NB_LOAD_WARNING)\n",
       "    }\n",
       "\n",
       "  }\n",
       "\n",
       "  if (root._bokeh_is_loading === 0) {\n",
       "    console.log(\"Bokeh: BokehJS loaded, going straight to plotting\");\n",
       "    run_inline_js();\n",
       "  } else {\n",
       "    load_libs(js_urls, function() {\n",
       "      console.log(\"Bokeh: BokehJS plotting callback run at\", now());\n",
       "      run_inline_js();\n",
       "    });\n",
       "  }\n",
       "}(window));"
      ]
     },
     "metadata": {},
     "output_type": "display_data"
    }
   ],
   "source": [
    "from bokeh.layouts import row\n",
    "from bokeh.plotting import figure, show\n",
    "from bokeh.io import output_notebook\n",
    "output_notebook()"
   ]
  },
  {
   "cell_type": "code",
   "execution_count": 3,
   "metadata": {
    "collapsed": true
   },
   "outputs": [],
   "source": [
    "from amplpy import AMPL, Environment, DataFrame"
   ]
  },
  {
   "cell_type": "markdown",
   "metadata": {},
   "source": [
    "## Step 2: Create an AMPL object"
   ]
  },
  {
   "cell_type": "code",
   "execution_count": 4,
   "metadata": {
    "collapsed": true
   },
   "outputs": [],
   "source": [
    "ampl = AMPL(Environment('C:\\\\Users\\\\user\\\\Desktop\\\\OR_Kung\\\\AMPL'))"
   ]
  },
  {
   "cell_type": "markdown",
   "metadata": {},
   "source": [
    "## Step 3: Select the solver"
   ]
  },
  {
   "cell_type": "code",
   "execution_count": 5,
   "metadata": {
    "collapsed": true
   },
   "outputs": [],
   "source": [
    "ampl.setOption('solver','C:\\\\Users\\\\user\\\\Desktop\\\\OR_Kung\\\\AMPL\\\\cplex')  #'gurobi'"
   ]
  },
  {
   "cell_type": "markdown",
   "metadata": {},
   "source": [
    "## Step 4: Define the model"
   ]
  },
  {
   "cell_type": "code",
   "execution_count": 6,
   "metadata": {
    "collapsed": true
   },
   "outputs": [],
   "source": [
    "# ampl.read('FairCHBF.mod')"
   ]
  },
  {
   "cell_type": "code",
   "execution_count": 7,
   "metadata": {
    "collapsed": true
   },
   "outputs": [],
   "source": [
    "ampl.eval('''\n",
    "set I;\n",
    "set J;\n",
    "\n",
    "param B {J} >=0;   # benefit of doing the job\n",
    "param C {J} >=0;   # cost of doing the job\n",
    "param K {I} >=0;   # capacity of machine \n",
    "\n",
    "var X {I,J} >=0 binary;   # Decision var 1 # 其他問題寫\"integer\"\n",
    "var MinBnft;              # Decision var 2\n",
    "\n",
    "maximize Benefit: MinBnft;\n",
    "\n",
    "s.t. Capacity {i in I        }: sum {j in J} C[j] * X[i,j] <= K[i];\n",
    "s.t. ProdTime {        j in J}: sum {i in I}        X[i,j] <= 1;\n",
    "s.t. MacBnft  {i in I        }: sum {j in J} B[j] * X[i,j] >= MinBnft;\n",
    "s.t. Arrange  {i in I, j in J}:                     X[i,j] >= 0;\n",
    "\n",
    "s.t. MinBenefit : MinBnft >=0;\n",
    "''')"
   ]
  },
  {
   "cell_type": "markdown",
   "metadata": {},
   "source": [
    "## Step 5: Define the initial data"
   ]
  },
  {
   "cell_type": "code",
   "execution_count": 11,
   "metadata": {
    "collapsed": true
   },
   "outputs": [],
   "source": [
    "# batch 要做成:\n",
    "# [ num_machine, num_job, cost, benefit, capacity ]\n",
    "\n",
    "it_n = 1\n",
    "\n",
    "def batch (num_machine, num_job, relation_bc, capacity):\n",
    "    \n",
    "    m = num_machine\n",
    "    n = num_job\n",
    "    \n",
    "    list_c1 = []    # 內含 100組 n個 job的 cost 組合\n",
    "    list_b1 = []    # 內含 100組 n個 job的 bnft 組合\n",
    "    list_k1 = []    # 內含 100組 由 n個 job 加總算出的 k\n",
    "    \n",
    "    for i in range(it_n):\n",
    "        \n",
    "        list_c2 = []   # 內含 n個 job的 cost\n",
    "        list_b2 = []   # 內含 n個 job的 bnft\n",
    "        \n",
    "        for j in range(n):\n",
    "            c = int(random.randint(0,50))\n",
    "            list_c2.append(c)\n",
    "\n",
    "            if   relation_bc == 'L':\n",
    "                b = c\n",
    "\n",
    "            elif relation_bc == 'X':\n",
    "                b = c**2\n",
    "\n",
    "            elif relation_bc == 'A':\n",
    "                b = c**(1/2)\n",
    "\n",
    "            elif relation_bc == 'R':\n",
    "                b = random.randint(0,50)  \n",
    "            list_b2.append(b)\n",
    "\n",
    "        if   capacity =='N':\n",
    "            k = 10000 # no capacity\n",
    "\n",
    "        elif capacity =='L':\n",
    "            k = sum(list_c2) / m\n",
    "\n",
    "        elif capacity =='T':\n",
    "            k = sum(list_c2) * (0.75) / m\n",
    "    \n",
    "        list_c1.append(list_c2)\n",
    "        list_b1.append(list_b2)\n",
    "        list_k1.append(k)\n",
    "    \n",
    "    return  m, n, list_c1, list_b1, list_k1"
   ]
  },
  {
   "cell_type": "code",
   "execution_count": 62,
   "metadata": {},
   "outputs": [
    {
     "name": "stdout",
     "output_type": "stream",
     "text": [
      "[[22, 48, 34, 16, 40, 30, 5, 48, 34, 17, 18, 5, 41, 26, 14, 12, 26, 45, 15, 35], [43, 35, 6, 18, 16, 31, 9, 8, 12, 35, 13, 23, 50, 48, 30, 48, 50, 35, 25, 29]]\n",
      "[[4.69041575982343, 6.928203230275509, 5.830951894845301, 4.0, 6.324555320336759, 5.477225575051661, 2.23606797749979, 6.928203230275509, 5.830951894845301, 4.123105625617661, 4.242640687119285, 2.23606797749979, 6.4031242374328485, 5.0990195135927845, 3.7416573867739413, 3.4641016151377544, 5.0990195135927845, 6.708203932499369, 3.872983346207417, 5.916079783099616], [6.557438524302, 5.916079783099616, 2.449489742783178, 4.242640687119285, 4.0, 5.5677643628300215, 3.0, 2.8284271247461903, 3.4641016151377544, 5.916079783099616, 3.605551275463989, 4.795831523312719, 7.0710678118654755, 6.928203230275509, 5.477225575051661, 6.928203230275509, 7.0710678118654755, 5.916079783099616, 5.0, 5.385164807134504]]\n"
     ]
    }
   ],
   "source": [
    "# Test OK! 不要在正式 run 100組時  print，會很慢 >\"<\n",
    "'''\n",
    "instance = batch( 5, 20, 'A', 'T' )\n",
    "print(instance[2])\n",
    "print(instance[3])\n",
    "'''"
   ]
  },
  {
   "cell_type": "code",
   "execution_count": 35,
   "metadata": {
    "collapsed": true
   },
   "outputs": [],
   "source": [
    "machine_job  = [(3,10)]\n",
    "capacity     = ['L'] # ,'T','N'\n",
    "relation_bc  = ['L'] # ,'A','X','R'"
   ]
  },
  {
   "cell_type": "markdown",
   "metadata": {},
   "source": [
    "## Step 6: Model Build-up & Solution"
   ]
  },
  {
   "cell_type": "code",
   "execution_count": 38,
   "metadata": {},
   "outputs": [
    {
     "name": "stdout",
     "output_type": "stream",
     "text": [
      "(3, 10, [[11, 43, 22, 27, 41, 23, 9, 45, 44, 11]], [[11, 43, 22, 27, 41, 23, 9, 45, 44, 11]], [92.0])\n",
      "CPLEX 12.8.0.0: optimal integer solution; objective 88\n",
      "234 MIP simplex iterations\n",
      "43 branch-and-bound nodes\n",
      "[[84, 8.0], [90, 2.0], [91, 1.0]]\n",
      "[ 84.]\n"
     ]
    }
   ],
   "source": [
    "# 迭代 instance\n",
    "\n",
    "MinBenefit_ijk_sn_1 = []\n",
    "MinBenefit_ijk_sn_2 = []\n",
    "\n",
    "for i in machine_job:\n",
    "    \n",
    "    num_machine = i[0]\n",
    "    num_job     = i[1]\n",
    "\n",
    "    # 印出編號，但從1開始算而不是從0，再讓 [1,2,3] -> [M1,M2,M3]\n",
    "\n",
    "    machine1 = ['M']*num_machine\n",
    "    job1     = ['J']*num_job\n",
    "    machine2 = map(add, list(range(num_machine)), [1]*num_machine)\n",
    "    job2     = map(add, list(range(num_job))    , [1]*num_job)\n",
    "    machine2 = list( str(x) for x in machine2 )\n",
    "    job2     = list( str(x) for x in job2     )\n",
    "    machine  = list (map(lambda y, z: y + z, machine1, machine2))\n",
    "    job      = list (map(lambda y, z: y + z, job1,     job2    ))\n",
    "\n",
    "    # AMPL sets\n",
    "\n",
    "    ampl.getSet('I').setValues(machine)\n",
    "    ampl.getSet('J').setValues(job)\n",
    "    \n",
    "    for k in capacity:    \n",
    "        for j in relation_bc:\n",
    "\n",
    "            instance = batch( i[0], i[1], j, k )\n",
    "            print(instance)    \n",
    "            MinBenefit_1 = []\n",
    "            MinBenefit_2 = []\n",
    "            \n",
    "            for p in range(it_n):      \n",
    "                \n",
    "                # ====== Model 1 ======= : 一組一組用solver算 IP (or linear relaxed LP)，每種senario要算 100組 再平均\n",
    "                \n",
    "                # amplpy DataFrame\n",
    "                ampl.setData(DataFrame(\n",
    "                index=[('J', job)], \n",
    "                columns=[\n",
    "                    ('B', instance[3][p]), \n",
    "                    ('C', instance[2][p])\n",
    "                ]\n",
    "                ))\n",
    "\n",
    "                # Pandas DataFrame\n",
    "                df = pd.DataFrame({\n",
    "                    'K': [ instance[4][p] ]*num_machine\n",
    "                }, \n",
    "                    index = machine\n",
    "                )\n",
    "                ampl.setData(DataFrame.fromPandas(df))\n",
    "\n",
    "                # Solve the problem\n",
    "                ampl.solve()\n",
    "\n",
    "                '''\n",
    "                # Create a DataFrame with Decision variables\n",
    "                Var = ampl.getVariable('X').getValues().toPandas()\n",
    "                print(Var)\n",
    "                '''\n",
    "\n",
    "                # Display the objective value\n",
    "                MinBnft_1 = ampl.getObjective('Benefit')\n",
    "                MinBnft_1 = MinBnft_1.value()\n",
    "                MinBenefit_1 = np.append(MinBenefit_1, MinBnft_1) # numpy.ndarray\n",
    "                \n",
    "                \n",
    "                # ====== Model 2 ======= : 一組一組用 CHBF算，每種senario要算 100組 再平均\n",
    "                \n",
    "                # 將 job 按照 cost (workload) 排序\n",
    "\n",
    "                list_c = instance[2][p]\n",
    "                list_b = instance[3][p]\n",
    "\n",
    "                list_cb = list(zip(list_c, list_b))        # [3,5]  [8,1]  -> [(3,8),(5,1)]\n",
    "                s_cb    = sorted(list_cb, reverse = True)  # [(3,8),(5,1)] -> [(5,1),(3,8)]\n",
    "                o_cb    = list(zip(*s_cb))                 # [(5,1),(3,8)] -> [(5,3),(1,8)]\n",
    "\n",
    "                list_c  = list(o_cb[0])                    # [5,3]\n",
    "                list_b  = list(o_cb[1])                    # [1,8]\n",
    "\n",
    "                mach = []                 # machine\n",
    "                ca = instance[4][p]\n",
    "\n",
    "                for r in range(num_machine):\n",
    "\n",
    "                    mach.append([])    # machine set中安排一台台 machine 被 append 進來\n",
    "                    mach[r].append(0)  # 初始的 benefit和 是 0\n",
    "                    mach[r].append(ca) # 初始的 capacity  是 ca\n",
    "\n",
    "                for s in range(num_job):\n",
    "\n",
    "                    mach = sorted(mach)                           # 按照 benefit和 由小而大排序\n",
    "                    # print(machine)\n",
    "\n",
    "                    for r in range(num_machine):                  # 由最小 benefit和 的先開始\n",
    "\n",
    "                        if list_c[s] <= mach[r][1]:               # machine r 還有 capacity 餘裕\n",
    "\n",
    "                            # print(mach[r])\n",
    "                            mach[r][1] -= list_c[s]\n",
    "                            mach[r][0] += list_b[s]\n",
    "                            # print(mach[r])\n",
    "                            # print('=================')\n",
    "                            break\n",
    "                            \n",
    "                mach = sorted(mach)                               # 再一次 按照 benefit和 由小而大排序\n",
    "                print(mach)\n",
    "                MinBnft_2 = mach[0][0]                            # 將最小的 benefit和的 machine 取出來\n",
    "                MinBenefit_2 = np.append(MinBenefit_2, MinBnft_2) # numpy.ndarray\n",
    "                print(MinBenefit_2)"
   ]
  },
  {
   "cell_type": "code",
   "execution_count": 11,
   "metadata": {},
   "outputs": [
    {
     "data": {
      "text/plain": [
       "[0.95538003897835677,\n",
       " 0.96233908518214184,\n",
       " 0.98001575113211259,\n",
       " 1.005522245522527,\n",
       " 0.88425556031324715,\n",
       " 0.95521810523887152,\n",
       " 0.97967426831080073,\n",
       " 0.99361198432103082,\n",
       " 0.98696413100990199,\n",
       " 0.67064294379296407,\n",
       " 0.53177146646038231,\n",
       " 1.0486770349424359]"
      ]
     },
     "execution_count": 11,
     "metadata": {},
     "output_type": "execute_result"
    }
   ],
   "source": [
    "MinBenefit_ijk_sn_ratio = list(map(lambda a, b: a / b, MinBenefit_ijk_sn_2, MinBenefit_ijk_sn_1))\n",
    "MinBenefit_ijk_sn_ratio"
   ]
  },
  {
   "cell_type": "code",
   "execution_count": null,
   "metadata": {
    "collapsed": true
   },
   "outputs": [],
   "source": [
    "                \n",
    "                \n",
    "            # ====== Model 1 Objective value: ====== #\n",
    "            \n",
    "            list_M1          = list(MinBenefit_1)\n",
    "            MinBenefit_100_1 = sum(list_M1) / len(list_M1)\n",
    "            MinBenefit_ijk_sn_1.append(MinBenefit_100_1)   # i*j*k 種 senario 迭代\n",
    "            \n",
    "            # ====== Model 2 Objective value: ====== #\n",
    "            \n",
    "            list_M2         = list(MinBenefit_2)\n",
    "            MinBenefit_100_2 = sum(list_M2) / len(list_M2)\n",
    "            MinBenefit_ijk_sn_2.append(MinBenefit_100_2)   # i*j*k 種 senario 迭代\n",
    "            \n",
    "            print('=========================' + str(i) + str(j) + str(k) + '=========================') # 分隔           \n",
    "            \n",
    "print(MinBenefit_ijk_sn_1) # list\n",
    "print(MinBenefit_ijk_sn_2) # list\n",
    "\n",
    "MinBenefit_ijk_sn_ratio = list(map(lambda a, b: a / b, MinBenefit_ijk_sn_2, MinBenefit_ijk_sn_1))\n",
    "MinBenefit_ijk_sn_ratio"
   ]
  },
  {
   "cell_type": "code",
   "execution_count": null,
   "metadata": {
    "collapsed": true
   },
   "outputs": [],
   "source": []
  },
  {
   "cell_type": "code",
   "execution_count": null,
   "metadata": {
    "collapsed": true
   },
   "outputs": [],
   "source": []
  },
  {
   "cell_type": "markdown",
   "metadata": {},
   "source": [
    "## Other Function"
   ]
  },
  {
   "cell_type": "code",
   "execution_count": 22,
   "metadata": {},
   "outputs": [
    {
     "name": "stdout",
     "output_type": "stream",
     "text": [
      "Increased costs of beef and ham.\n",
      "CPLEX 12.8.0.0: optimal solution; objective 144.0120033\n",
      "0 simplex iterations (0 in phase I)\n",
      "New objective value: 144.01200332502074\n",
      "Buy['BEEF'].val = 5.226932668329172\n",
      "diet['A'].dual = 0.0\n",
      "diet['C'].dual = 0.0\n",
      "diet['B1'].dual = 0.0\n",
      "diet['B2'].dual = 0.7999285120532\n",
      "diet['NA'].dual = -0.007531172069825434\n",
      "diet['CAL'].dual = 0.0\n"
     ]
    }
   ],
   "source": [
    "# Increase the costs of beef and ham\n",
    "\n",
    "cost = ampl.getParameter('cost')\n",
    "cost.setValues({'BEEF': 5.01, 'HAM': 4.55})\n",
    "print(\"Increased costs of beef and ham.\")\n",
    "\n",
    "# 再解一次\n",
    "\n",
    "ampl.solve()\n",
    "print(\"New objective value:\", totalcost.value())\n",
    "\n",
    "# 印出其中項目\n",
    "\n",
    "Buy = ampl.getVariable('Buy')\n",
    "print(\"Buy['BEEF'].val = {}\".format(Buy['BEEF'].value()))\n",
    "\n",
    "# Display the dual value of each constraint\n",
    "\n",
    "diet = ampl.getConstraint('diet')\n",
    "for nutr in nutrients:\n",
    "    print(\"diet['{}'].dual = {}\".format(nutr, diet[nutr].dual()))"
   ]
  },
  {
   "cell_type": "code",
   "execution_count": null,
   "metadata": {
    "collapsed": true
   },
   "outputs": [],
   "source": []
  }
 ],
 "metadata": {
  "kernelspec": {
   "display_name": "Python 3",
   "language": "python",
   "name": "python3"
  },
  "language_info": {
   "codemirror_mode": {
    "name": "ipython",
    "version": 3
   },
   "file_extension": ".py",
   "mimetype": "text/x-python",
   "name": "python",
   "nbconvert_exporter": "python",
   "pygments_lexer": "ipython3",
   "version": "3.6.2"
  }
 },
 "nbformat": 4,
 "nbformat_minor": 2
}
